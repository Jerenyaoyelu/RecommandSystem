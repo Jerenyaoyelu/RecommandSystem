{
 "cells": [
  {
   "cell_type": "code",
   "execution_count": 11,
   "metadata": {},
   "outputs": [
    {
     "ename": "ModuleNotFoundError",
     "evalue": "No module named 'interactions'",
     "output_type": "error",
     "traceback": [
      "\u001b[0;31m---------------------------------------------------------------------------\u001b[0m",
      "\u001b[0;31mModuleNotFoundError\u001b[0m                       Traceback (most recent call last)",
      "\u001b[0;32m<ipython-input-11-5f0ae1bc5dec>\u001b[0m in \u001b[0;36m<module>\u001b[0;34m()\u001b[0m\n\u001b[1;32m      3\u001b[0m \u001b[0;32mfrom\u001b[0m \u001b[0mspotlight\u001b[0m\u001b[0;34m.\u001b[0m\u001b[0mevaluation\u001b[0m \u001b[0;32mimport\u001b[0m \u001b[0msequence_mrr_score\u001b[0m\u001b[0;34m\u001b[0m\u001b[0m\n\u001b[1;32m      4\u001b[0m \u001b[0;32mfrom\u001b[0m \u001b[0mspotlight\u001b[0m\u001b[0;34m.\u001b[0m\u001b[0msequence\u001b[0m\u001b[0;34m.\u001b[0m\u001b[0mimplicit\u001b[0m \u001b[0;32mimport\u001b[0m \u001b[0mImplicitSequenceModel\u001b[0m\u001b[0;34m\u001b[0m\u001b[0m\n\u001b[0;32m----> 5\u001b[0;31m \u001b[0;32mimport\u001b[0m \u001b[0minteractions\u001b[0m\u001b[0;34m\u001b[0m\u001b[0m\n\u001b[0m\u001b[1;32m      6\u001b[0m \u001b[0;34m\u001b[0m\u001b[0m\n\u001b[1;32m      7\u001b[0m dataset = generate_sequential(num_users=100,\n",
      "\u001b[0;31mModuleNotFoundError\u001b[0m: No module named 'interactions'"
     ]
    }
   ],
   "source": [
    "from spotlight.cross_validation import user_based_train_test_split\n",
    "from spotlight.datasets.synthetic import generate_sequential\n",
    "from spotlight.evaluation import sequence_mrr_score\n",
    "from spotlight.sequence.implicit import ImplicitSequenceModel\n",
    "\n",
    "dataset = generate_sequential(num_users=100,\n",
    "                              num_items=1000,\n",
    "                              num_interactions=10000,\n",
    "                              concentration_parameter=0.01,\n",
    "                              order=3)\n",
    "\n",
    "train, test = user_based_train_test_split(dataset)\n",
    "\n",
    "train = train.to_sequence()\n",
    "test = test.to_sequence()\n",
    "\n",
    "model = ImplicitSequenceModel(n_iter=3,\n",
    "                              representation='cnn',\n",
    "                              loss='bpr')\n",
    "model.fit(train)"
   ]
  },
  {
   "cell_type": "code",
   "execution_count": 10,
   "metadata": {},
   "outputs": [
    {
     "ename": "AttributeError",
     "evalue": "'SequenceInteractions' object has no attribute 'tocsr'",
     "output_type": "error",
     "traceback": [
      "\u001b[0;31m---------------------------------------------------------------------------\u001b[0m",
      "\u001b[0;31mAttributeError\u001b[0m                            Traceback (most recent call last)",
      "\u001b[0;32m<ipython-input-10-4b0e89599ea9>\u001b[0m in \u001b[0;36m<module>\u001b[0;34m()\u001b[0m\n\u001b[0;32m----> 1\u001b[0;31m \u001b[0mtest\u001b[0m \u001b[0;34m=\u001b[0m \u001b[0mtest\u001b[0m\u001b[0;34m.\u001b[0m\u001b[0mtocsr\u001b[0m\u001b[0;34m(\u001b[0m\u001b[0;34m)\u001b[0m\u001b[0;34m\u001b[0m\u001b[0m\n\u001b[0m\u001b[1;32m      2\u001b[0m \u001b[0;32mfor\u001b[0m \u001b[0muser_id\u001b[0m\u001b[0;34m,\u001b[0m \u001b[0mrow\u001b[0m \u001b[0;32min\u001b[0m \u001b[0menumerate\u001b[0m\u001b[0;34m(\u001b[0m\u001b[0mtest\u001b[0m\u001b[0;34m)\u001b[0m\u001b[0;34m:\u001b[0m\u001b[0;34m\u001b[0m\u001b[0m\n\u001b[1;32m      3\u001b[0m \u001b[0;34m\u001b[0m\u001b[0m\n\u001b[1;32m      4\u001b[0m         \u001b[0;32mif\u001b[0m \u001b[0;32mnot\u001b[0m \u001b[0mlen\u001b[0m\u001b[0;34m(\u001b[0m\u001b[0mrow\u001b[0m\u001b[0;34m.\u001b[0m\u001b[0mindices\u001b[0m\u001b[0;34m)\u001b[0m\u001b[0;34m:\u001b[0m\u001b[0;34m\u001b[0m\u001b[0m\n\u001b[1;32m      5\u001b[0m             \u001b[0;32mcontinue\u001b[0m\u001b[0;34m\u001b[0m\u001b[0m\n",
      "\u001b[0;31mAttributeError\u001b[0m: 'SequenceInteractions' object has no attribute 'tocsr'"
     ]
    }
   ],
   "source": [
    "test = test.tocsr()\n",
    "for user_id, row in enumerate(test):\n",
    "\n",
    "        if not len(row.indices):\n",
    "            continue\n",
    "\n",
    "        predictions = -model.predict(user_id)\n",
    "        print(predictions)"
   ]
  },
  {
   "cell_type": "code",
   "execution_count": 4,
   "metadata": {},
   "outputs": [
    {
     "data": {
      "text/plain": [
       "array([0.06666667, 0.05263158, 0.00160256, 0.00100705, 0.00243902,\n",
       "       0.00120627, 0.00117786, 0.00124844, 0.00117233, 0.00819672,\n",
       "       0.0075188 , 0.00222717, 0.00110865, 0.00144718, 0.0016    ,\n",
       "       0.00103413, 0.00347222, 0.00925926, 0.00132979, 0.01851852,\n",
       "       0.00146199, 0.00134771, 0.00136612, 0.00245098, 0.00346021,\n",
       "       0.00223714, 0.00546448, 0.00442478, 0.00242718, 0.00892857,\n",
       "       0.00116822, 0.00245098, 0.01923077, 0.00137741, 0.00110865,\n",
       "       0.0011655 , 0.00101317, 0.00215983, 0.00126263, 0.01388889,\n",
       "       0.01666667, 0.00101833, 0.0013459 , 0.00120337, 0.00105152,\n",
       "       0.00220264, 0.00152905, 0.00160514, 0.00160256, 0.00140647,\n",
       "       0.00413223, 0.00641026, 0.02702703, 0.00118203, 0.00151745,\n",
       "       0.00134228, 0.00588235, 0.00198807, 0.04347826, 0.00125   ,\n",
       "       0.00395257, 0.00230947, 0.00115607, 0.00153846, 0.00142248,\n",
       "       0.0010989 , 0.0019084 , 0.00269542, 0.00115075, 0.00262467,\n",
       "       0.00207039, 0.00961538, 0.01960784, 0.00142248, 0.01449275,\n",
       "       0.00735294, 0.00159744, 0.00109649, 0.00166945, 0.0026178 ,\n",
       "       0.00128535, 0.00162338, 0.00138696, 0.00763359, 0.00191571,\n",
       "       0.0021645 , 0.05263158, 0.00137363, 0.00719424, 0.0026455 ,\n",
       "       0.00699301, 0.00260417, 0.00198807, 0.0018622 , 0.00117925,\n",
       "       0.0012285 , 0.0010661 , 0.00316456, 0.00153846, 0.00166667,\n",
       "       0.00137741, 0.00118343, 0.00429185, 0.00199203, 0.00120048,\n",
       "       0.02272727, 0.00124688, 0.00217865, 0.00111235, 0.00218818,\n",
       "       0.00141844, 0.00108932, 0.00147059, 0.00170358, 0.00294118,\n",
       "       0.00228311, 0.00380228, 0.00100705, 0.00149701, 0.00632911,\n",
       "       0.00117509, 0.00105597, 0.001     , 0.0011919 , 0.00537634,\n",
       "       0.00332226, 0.00490196, 0.02222222, 0.00235294, 0.00119048,\n",
       "       0.00103734, 0.00296736, 0.00204918, 0.0013587 , 0.0025974 ,\n",
       "       0.0020284 , 0.00101626, 0.00248139, 0.00220264, 0.00126582,\n",
       "       0.00884956, 0.00355872, 0.0017301 , 0.00311526, 0.00124069,\n",
       "       0.00157233, 0.00251256, 0.00194175, 0.00194175, 0.00105597,\n",
       "       0.00186916, 0.0070922 , 0.00299401, 0.0033557 , 0.01612903,\n",
       "       0.00289017, 0.00273973, 0.00925926, 0.00298507, 0.00142045,\n",
       "       0.00398406, 0.00177936, 0.00166667, 0.00189753, 0.00219298,\n",
       "       0.00178891, 0.0014245 , 0.00101626, 0.00217865, 0.00127877,\n",
       "       0.00136612, 0.00151286, 0.0010395 , 0.00162602, 0.00103627,\n",
       "       0.0021097 , 0.00182482, 0.00826446, 0.00121951, 0.00144092,\n",
       "       0.00230415, 0.00209644, 0.01176471, 0.00364964, 0.0017331 ,\n",
       "       0.00215983, 0.00134953, 0.00110742, 0.00243902, 0.00320513,\n",
       "       0.00641026, 0.00163666, 0.0013245 , 0.00558659, 0.03333333,\n",
       "       0.003861  , 0.00100402, 0.00502513])"
      ]
     },
     "execution_count": 4,
     "metadata": {},
     "output_type": "execute_result"
    }
   ],
   "source": [
    "mrr = sequence_mrr_score(model, test)\n",
    "mrr"
   ]
  },
  {
   "cell_type": "code",
   "execution_count": null,
   "metadata": {},
   "outputs": [],
   "source": []
  }
 ],
 "metadata": {
  "kernelspec": {
   "display_name": "Python 3",
   "language": "python",
   "name": "python3"
  },
  "language_info": {
   "codemirror_mode": {
    "name": "ipython",
    "version": 3
   },
   "file_extension": ".py",
   "mimetype": "text/x-python",
   "name": "python",
   "nbconvert_exporter": "python",
   "pygments_lexer": "ipython3",
   "version": "3.6.5"
  },
  "toc": {
   "base_numbering": 1,
   "nav_menu": {},
   "number_sections": true,
   "sideBar": true,
   "skip_h1_title": false,
   "title_cell": "Table of Contents",
   "title_sidebar": "Contents",
   "toc_cell": false,
   "toc_position": {},
   "toc_section_display": true,
   "toc_window_display": false
  }
 },
 "nbformat": 4,
 "nbformat_minor": 2
}
