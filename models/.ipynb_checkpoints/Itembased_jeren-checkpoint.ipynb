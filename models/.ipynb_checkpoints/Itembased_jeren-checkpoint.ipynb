{
 "cells": [
  {
   "cell_type": "code",
   "execution_count": 487,
   "metadata": {},
   "outputs": [],
   "source": [
    "import pandas as pd\n",
    "import sklearn as sns\n",
    "import math\n",
    "import random\n",
    "from operator import itemgetter\n",
    "import random\n",
    "import numpy as np"
   ]
  },
  {
   "cell_type": "markdown",
   "metadata": {},
   "source": [
    "# Prepare Data and split dataset into train and test"
   ]
  },
  {
   "cell_type": "code",
   "execution_count": 488,
   "metadata": {},
   "outputs": [
    {
     "data": {
      "text/html": [
       "<div>\n",
       "<style scoped>\n",
       "    .dataframe tbody tr th:only-of-type {\n",
       "        vertical-align: middle;\n",
       "    }\n",
       "\n",
       "    .dataframe tbody tr th {\n",
       "        vertical-align: top;\n",
       "    }\n",
       "\n",
       "    .dataframe thead th {\n",
       "        text-align: right;\n",
       "    }\n",
       "</style>\n",
       "<table border=\"1\" class=\"dataframe\">\n",
       "  <thead>\n",
       "    <tr style=\"text-align: right;\">\n",
       "      <th></th>\n",
       "      <th>userId</th>\n",
       "      <th>movieId</th>\n",
       "      <th>rating</th>\n",
       "    </tr>\n",
       "  </thead>\n",
       "  <tbody>\n",
       "    <tr>\n",
       "      <th>0</th>\n",
       "      <td>1</td>\n",
       "      <td>1</td>\n",
       "      <td>4.0</td>\n",
       "    </tr>\n",
       "    <tr>\n",
       "      <th>1</th>\n",
       "      <td>1</td>\n",
       "      <td>3</td>\n",
       "      <td>4.0</td>\n",
       "    </tr>\n",
       "    <tr>\n",
       "      <th>2</th>\n",
       "      <td>1</td>\n",
       "      <td>6</td>\n",
       "      <td>4.0</td>\n",
       "    </tr>\n",
       "    <tr>\n",
       "      <th>3</th>\n",
       "      <td>1</td>\n",
       "      <td>47</td>\n",
       "      <td>5.0</td>\n",
       "    </tr>\n",
       "    <tr>\n",
       "      <th>4</th>\n",
       "      <td>1</td>\n",
       "      <td>50</td>\n",
       "      <td>5.0</td>\n",
       "    </tr>\n",
       "  </tbody>\n",
       "</table>\n",
       "</div>"
      ],
      "text/plain": [
       "   userId  movieId  rating\n",
       "0       1        1     4.0\n",
       "1       1        3     4.0\n",
       "2       1        6     4.0\n",
       "3       1       47     5.0\n",
       "4       1       50     5.0"
      ]
     },
     "execution_count": 488,
     "metadata": {},
     "output_type": "execute_result"
    }
   ],
   "source": [
    "movie = pd.read_csv(\"./dataset/ratings.csv\")\n",
    "movie = movie.drop(columns = ['timestamp'])\n",
    "# movie = movie.drop(columns = ['timestamp'])[[\"userId\",\"movieId\"]]\n",
    "# movie[[\"userId\",\"movieId\"]]\n",
    "movie.head()\n",
    "# # print(movie.index)\n",
    "# table = pd.pivot_table(movie,values = \"rating\",index = ['userId'],columns = ['movieId'])\n",
    "# # list(table.index)\n",
    "# table.head()\n",
    "# print(list(movie.items()))\n",
    "# for u,i in movie.items():\n",
    "#     print([u,i])"
   ]
  },
  {
   "cell_type": "code",
   "execution_count": 457,
   "metadata": {},
   "outputs": [],
   "source": [
    "# #prepare the input data for calculating similarity\n",
    "# def DataPrep1(raw_data):\n",
    "#     Data = {}\n",
    "#     for index,row in raw_data.iterrows():\n",
    "#         if row['movieId'] not in Data:\n",
    "#             Data[row['movieId']] = {}\n",
    "# #         if(row['rating']>=0):\n",
    "#         Data[row['movieId']][row['userId']] = row['rating']\n",
    "#     return Data"
   ]
  },
  {
   "cell_type": "code",
   "execution_count": 458,
   "metadata": {},
   "outputs": [],
   "source": [
    "#prepare the input data for training model\n",
    "def DataPrep2(raw_data):\n",
    "    Data = {}\n",
    "    for index,row in raw_data.iterrows():\n",
    "        if row['userId'] not in Data:\n",
    "            Data[row['userId']] = {}\n",
    "#         if(row['rating']>=0):\n",
    "        Data[row['userId']][row['movieId']] = row['rating']\n",
    "    return Data"
   ]
  },
  {
   "cell_type": "code",
   "execution_count": 459,
   "metadata": {},
   "outputs": [],
   "source": [
    "#split the dataset into train and test\n",
    "#the latter for the purpose of evaluation by using rmse\n",
    "def datasplit(data,seed,m,k):\n",
    "    train_set = {}\n",
    "    y_set = {}\n",
    "    random.seed(seed)\n",
    "    for user in data:\n",
    "        y_set[user] = {}\n",
    "        train_set[user] = {}\n",
    "        for movie in data[user]:\n",
    "            if random.randint(0,m)<k:\n",
    "                y_set[user][movie] = data[user][movie]\n",
    "            else:\n",
    "                train_set[user][movie] = data[user][movie]\n",
    "#         train = movies[:int(0.8*len(movies))]\n",
    "#         y = movies[int(0.8*len(movies)):]\n",
    "    #print('Data preparation finished')\n",
    "    return train_set, y_set"
   ]
  },
  {
   "cell_type": "code",
   "execution_count": 460,
   "metadata": {},
   "outputs": [
    {
     "name": "stdout",
     "output_type": "stream",
     "text": [
      "163 69\n"
     ]
    }
   ],
   "source": [
    "feed_data = DataPrep2(movie)\n",
    "train, test = datasplit(feed_data,2,10,2.5)\n",
    "print(len(train[1]),len(test[1]))"
   ]
  },
  {
   "cell_type": "code",
   "execution_count": 475,
   "metadata": {},
   "outputs": [],
   "source": [
    "#transfer the format of train dataset for computing similarity\n",
    "def get_sim_feed_data(train):\n",
    "    train_sim = {}\n",
    "    for user in train:\n",
    "        for movie in train[user]:\n",
    "            if movie not in train_sim:\n",
    "                train_sim[movie] = {}\n",
    "            train_sim[movie][user] = train[user][movie]\n",
    "    return train_sim"
   ]
  },
  {
   "cell_type": "code",
   "execution_count": 477,
   "metadata": {},
   "outputs": [],
   "source": [
    "train_sim = get_sim_feed_data(train)"
   ]
  },
  {
   "cell_type": "markdown",
   "metadata": {},
   "source": [
    "# Calculate the similarity of two movies"
   ]
  },
  {
   "cell_type": "markdown",
   "metadata": {},
   "source": [
    "% Insight of the similarity algorithm:\n",
    "\n",
    "- This step is the most critical move in the whole item based model\n",
    "- The basic idea of this algothrim is \n",
    "\n",
    "    - First, by only looking into the co-rated movies, we build a set of users who have watched this movie i and then we construct the co-ocurrence matrix of movies, each its cell records the number of users who like both movie i and movie j.\n",
    "    \n",
    "    - We compute the similarity of two movies in the terms of describing their cosine distance.\n",
    "    $sim(i,j) = \\frac{\\sum_{u\\in U}(R_{u,i}-\\overline{R})(R_{u,j}-\\overline{R})}{\\sqrt{\\sum_{u\\in U}(R_{u,i}-\\overline{R})^2}\\sqrt{\\sum_{u\\in U}(R_{u,j}-\\overline{R})^2}}$, where $\\overline{R}$ is the average of $u$-th user's rating scores.\n",
    "    \n",
    "    - To give a predicting score to an unwatched by user $u$, we use weighted sum method, details as below:\n",
    "        - For a given user $u$, we calculate look into each movie in the movie set that this user has not watched, and sum up the contributions made from all the movie set that this user has watched by multiplying the similarity weight and the ratings rated by the user. \n",
    "    \n",
    "    - However, this method has a fatal problem, when the movie is a very popular one, then the number of users who like it will be large, which means that the denominator in the formula will be big, and then its weight will be heavy, but the fact may be not the case. Then when using weighted sum method to predict the rating of a unwatched movie will be not convincing.\n",
    "    \n",
    "    - To tackle this problem, we normalize the weight by dividing by its maximal weight. "
   ]
  },
  {
   "cell_type": "code",
   "execution_count": 463,
   "metadata": {},
   "outputs": [],
   "source": [
    "def CompMatrix(data_sim):\n",
    "    C = {}\n",
    "    N = {}\n",
    "    for i,users1 in data_sim.items():\n",
    "        for u1 in users1:\n",
    "            if i not in N:\n",
    "                N[i] = 1\n",
    "            else:\n",
    "                N[i] += 1\n",
    "            for j,users2 in data_sim.items():\n",
    "    #         print(users,items)\n",
    "                if i == j:\n",
    "                    continue\n",
    "                #u1 has interests in both item1 and item2\n",
    "                if u1 in users2:\n",
    "#                     corating = -abs(data_sim[i][u1]-data_sim[j][u1])+5\n",
    "                    if i not in C:\n",
    "                        C[i] = {j:1}\n",
    "                    else:\n",
    "                        if j not in C[i]:\n",
    "                            C[i][j] = 1\n",
    "                        else:\n",
    "                            C[i][j] += 1\n",
    "    return C,N"
   ]
  },
  {
   "cell_type": "code",
   "execution_count": 464,
   "metadata": {},
   "outputs": [],
   "source": [
    "C,N = CompMatrix(train_sim)"
   ]
  },
  {
   "cell_type": "code",
   "execution_count": 466,
   "metadata": {},
   "outputs": [],
   "source": [
    "def CalItemSimilarity(C,N):\n",
    "    W = {}\n",
    "    for i, related_items in C.items():\n",
    "#         max_w = max(related_items.items(), key=itemgetter(1))[0]\n",
    "        for j,Cij in related_items.items():\n",
    "            temp = Cij/math.sqrt(N[i]*N[j])\n",
    "            if i not in W:\n",
    "                W[i] = {j:temp}\n",
    "            if j not in W[i]:\n",
    "                W[i][j] = temp\n",
    "    return W"
   ]
  },
  {
   "cell_type": "code",
   "execution_count": 467,
   "metadata": {},
   "outputs": [],
   "source": [
    "Weight = CalItemSimilarity(C,N)"
   ]
  },
  {
   "cell_type": "code",
   "execution_count": 468,
   "metadata": {},
   "outputs": [],
   "source": [
    "def Recommendation(train,user_id,W,k):\n",
    "    rank = {}\n",
    "    ru = train[user_id] #get the set of movies watched by user_id\n",
    "    #the original idea in the recommand system book is a bit unreasonable in logic\n",
    "    #the way they do it is:\n",
    "    #loop through the watched movie set, say current loop is in watched movie i\n",
    "        #and then take the top k unwacthed movie in similarity with the movie i\n",
    "        #sum up the weighted rating got from all watched movies i based on similarity of the unwatched movie j\n",
    "    #here comes a problem, say watched movie i_1 has the set of unwatched movie: j_1,j_2,j_3\n",
    "    #and watched movie i_2 has the set of unwatched movie: j_1,j_2,j_4\n",
    "    #then, when sum then up, the unwatched movies j_3 and j_4 will receive unfair treatment \n",
    "    #by only having one contribution compared with j_1 and j_2\n",
    "    #implementation in their unfair idea\n",
    "#     for i in ru:\n",
    "#         #iterate all movies j that user_id havent watched yet\n",
    "#         for j,wij in sorted(W[i].items(),key = itemgetter(1),reverse = True)[0:k]:\n",
    "#             if j in ru:\n",
    "#                 continue\n",
    "#             #get the rating of movie i rated by user_id\n",
    "#             pi = ru[i]\n",
    "#             if j in rank:\n",
    "#                 rank[j] += pi*wij\n",
    "#             else:\n",
    "#                 rank[j] = pi*wij\n",
    "    candi = {}\n",
    "    for j,wd in W.items():\n",
    "        if j not in ru:\n",
    "            #get all similarities of j and movies in ru\n",
    "            for i in ru:\n",
    "                #if watched movie i is not wij, then movie j and i has no similarity, skip\n",
    "                #otherwise, append to candi\n",
    "                if i in wd:\n",
    "                    if j not in candi:\n",
    "                        candi[j] = {}\n",
    "                    if i not in candi[j]:\n",
    "                        candi[j][i] = 0\n",
    "                    candi[j][i] = wd[i]\n",
    "                else: \n",
    "                    continue\n",
    "    for j in candi:\n",
    "        sum_size = min(k,len(candi[j]))\n",
    "        sum_w = 0\n",
    "        sorted_list = sorted(candi[j].items(),key = itemgetter(1),reverse = True)\n",
    "        maximal_w = sorted_list[0][1]\n",
    "        for i,w in sorted_list:\n",
    "            sum_w += w/maximal_w\n",
    "            pi = ru[i]\n",
    "            if j not in rank:\n",
    "                rank[j] = 0\n",
    "            rank[j] += pi*w/maximal_w\n",
    "            sum_size -= 1\n",
    "            if sum_size <=0:\n",
    "                break;\n",
    "        rank[j] = rank[j]/sum_w\n",
    "    return rank"
   ]
  },
  {
   "cell_type": "code",
   "execution_count": 469,
   "metadata": {},
   "outputs": [],
   "source": [
    "#evaluation:\n",
    "def rmse(pred,real):\n",
    "    return np.sqrt(np.mean((pred-real)**2))"
   ]
  },
  {
   "cell_type": "markdown",
   "metadata": {},
   "source": [
    "# Experiment on a given target user"
   ]
  },
  {
   "cell_type": "code",
   "execution_count": 470,
   "metadata": {},
   "outputs": [],
   "source": [
    "rank = sorted(Recommendation(train,1,Weight,10).items(),key = itemgetter(1),reverse = True)"
   ]
  },
  {
   "cell_type": "code",
   "execution_count": 471,
   "metadata": {},
   "outputs": [
    {
     "data": {
      "text/html": [
       "<div>\n",
       "<style scoped>\n",
       "    .dataframe tbody tr th:only-of-type {\n",
       "        vertical-align: middle;\n",
       "    }\n",
       "\n",
       "    .dataframe tbody tr th {\n",
       "        vertical-align: top;\n",
       "    }\n",
       "\n",
       "    .dataframe thead th {\n",
       "        text-align: right;\n",
       "    }\n",
       "</style>\n",
       "<table border=\"1\" class=\"dataframe\">\n",
       "  <thead>\n",
       "    <tr style=\"text-align: right;\">\n",
       "      <th></th>\n",
       "      <th>movieId</th>\n",
       "      <th>pred</th>\n",
       "      <th>rating</th>\n",
       "    </tr>\n",
       "  </thead>\n",
       "  <tbody>\n",
       "    <tr>\n",
       "      <th>0</th>\n",
       "      <td>2018.0</td>\n",
       "      <td>4.825409</td>\n",
       "      <td>5.0</td>\n",
       "    </tr>\n",
       "    <tr>\n",
       "      <th>1</th>\n",
       "      <td>2571.0</td>\n",
       "      <td>4.797863</td>\n",
       "      <td>5.0</td>\n",
       "    </tr>\n",
       "    <tr>\n",
       "      <th>2</th>\n",
       "      <td>2959.0</td>\n",
       "      <td>4.789648</td>\n",
       "      <td>5.0</td>\n",
       "    </tr>\n",
       "    <tr>\n",
       "      <th>3</th>\n",
       "      <td>2096.0</td>\n",
       "      <td>4.725505</td>\n",
       "      <td>4.0</td>\n",
       "    </tr>\n",
       "    <tr>\n",
       "      <th>4</th>\n",
       "      <td>2141.0</td>\n",
       "      <td>4.718040</td>\n",
       "      <td>5.0</td>\n",
       "    </tr>\n",
       "  </tbody>\n",
       "</table>\n",
       "</div>"
      ],
      "text/plain": [
       "   movieId      pred  rating\n",
       "0   2018.0  4.825409     5.0\n",
       "1   2571.0  4.797863     5.0\n",
       "2   2959.0  4.789648     5.0\n",
       "3   2096.0  4.725505     4.0\n",
       "4   2141.0  4.718040     5.0"
      ]
     },
     "execution_count": 471,
     "metadata": {},
     "output_type": "execute_result"
    }
   ],
   "source": [
    "prediction = pd.DataFrame(rank, columns=['movieId', \"pred\"])\n",
    "y = pd.DataFrame(sorted(test[1].items()), columns=['movieId', \"rating\"])\n",
    "merge = pd.merge(prediction,y)\n",
    "merge.head()"
   ]
  },
  {
   "cell_type": "code",
   "execution_count": 478,
   "metadata": {},
   "outputs": [
    {
     "data": {
      "text/plain": [
       "0.7902090155199417"
      ]
     },
     "execution_count": 478,
     "metadata": {},
     "output_type": "execute_result"
    }
   ],
   "source": [
    "rmse(merge[\"pred\"],merge[\"rating\"])"
   ]
  },
  {
   "cell_type": "code",
   "execution_count": 479,
   "metadata": {},
   "outputs": [
    {
     "data": {
      "text/html": [
       "<div>\n",
       "<style scoped>\n",
       "    .dataframe tbody tr th:only-of-type {\n",
       "        vertical-align: middle;\n",
       "    }\n",
       "\n",
       "    .dataframe tbody tr th {\n",
       "        vertical-align: top;\n",
       "    }\n",
       "\n",
       "    .dataframe thead th {\n",
       "        text-align: right;\n",
       "    }\n",
       "</style>\n",
       "<table border=\"1\" class=\"dataframe\">\n",
       "  <thead>\n",
       "    <tr style=\"text-align: right;\">\n",
       "      <th></th>\n",
       "      <th>movieId</th>\n",
       "      <th>title</th>\n",
       "      <th>genres</th>\n",
       "    </tr>\n",
       "  </thead>\n",
       "  <tbody>\n",
       "    <tr>\n",
       "      <th>0</th>\n",
       "      <td>1</td>\n",
       "      <td>Toy Story (1995)</td>\n",
       "      <td>Adventure|Animation|Children|Comedy|Fantasy</td>\n",
       "    </tr>\n",
       "    <tr>\n",
       "      <th>1</th>\n",
       "      <td>2</td>\n",
       "      <td>Jumanji (1995)</td>\n",
       "      <td>Adventure|Children|Fantasy</td>\n",
       "    </tr>\n",
       "    <tr>\n",
       "      <th>2</th>\n",
       "      <td>3</td>\n",
       "      <td>Grumpier Old Men (1995)</td>\n",
       "      <td>Comedy|Romance</td>\n",
       "    </tr>\n",
       "    <tr>\n",
       "      <th>3</th>\n",
       "      <td>4</td>\n",
       "      <td>Waiting to Exhale (1995)</td>\n",
       "      <td>Comedy|Drama|Romance</td>\n",
       "    </tr>\n",
       "    <tr>\n",
       "      <th>4</th>\n",
       "      <td>5</td>\n",
       "      <td>Father of the Bride Part II (1995)</td>\n",
       "      <td>Comedy</td>\n",
       "    </tr>\n",
       "  </tbody>\n",
       "</table>\n",
       "</div>"
      ],
      "text/plain": [
       "   movieId                               title  \\\n",
       "0        1                    Toy Story (1995)   \n",
       "1        2                      Jumanji (1995)   \n",
       "2        3             Grumpier Old Men (1995)   \n",
       "3        4            Waiting to Exhale (1995)   \n",
       "4        5  Father of the Bride Part II (1995)   \n",
       "\n",
       "                                        genres  \n",
       "0  Adventure|Animation|Children|Comedy|Fantasy  \n",
       "1                   Adventure|Children|Fantasy  \n",
       "2                               Comedy|Romance  \n",
       "3                         Comedy|Drama|Romance  \n",
       "4                                       Comedy  "
      ]
     },
     "execution_count": 479,
     "metadata": {},
     "output_type": "execute_result"
    }
   ],
   "source": [
    "details = pd.read_csv(\"./dataset/movies.csv\")\n",
    "details.head()"
   ]
  },
  {
   "cell_type": "code",
   "execution_count": 1,
   "metadata": {},
   "outputs": [
    {
     "ename": "NameError",
     "evalue": "name 'pd' is not defined",
     "output_type": "error",
     "traceback": [
      "\u001b[0;31m---------------------------------------------------------------------------\u001b[0m",
      "\u001b[0;31mNameError\u001b[0m                                 Traceback (most recent call last)",
      "\u001b[0;32m<ipython-input-1-46b2b2fff7b7>\u001b[0m in \u001b[0;36m<module>\u001b[0;34m()\u001b[0m\n\u001b[1;32m      1\u001b[0m \u001b[0;31m#get recommand movies list of a target user\u001b[0m\u001b[0;34m\u001b[0m\u001b[0;34m\u001b[0m\u001b[0m\n\u001b[0;32m----> 2\u001b[0;31m \u001b[0mprediction\u001b[0m \u001b[0;34m=\u001b[0m \u001b[0mpd\u001b[0m\u001b[0;34m.\u001b[0m\u001b[0mDataFrame\u001b[0m\u001b[0;34m(\u001b[0m\u001b[0mrank\u001b[0m\u001b[0;34m,\u001b[0m \u001b[0mcolumns\u001b[0m\u001b[0;34m=\u001b[0m\u001b[0;34m[\u001b[0m\u001b[0;34m'movieId'\u001b[0m\u001b[0;34m,\u001b[0m \u001b[0;34m\"pred\"\u001b[0m\u001b[0;34m]\u001b[0m\u001b[0;34m)\u001b[0m\u001b[0;34m\u001b[0m\u001b[0m\n\u001b[0m\u001b[1;32m      3\u001b[0m \u001b[0mmerge1\u001b[0m \u001b[0;34m=\u001b[0m \u001b[0mpd\u001b[0m\u001b[0;34m.\u001b[0m\u001b[0mmerge\u001b[0m\u001b[0;34m(\u001b[0m\u001b[0mprediction\u001b[0m\u001b[0;34m,\u001b[0m\u001b[0mdetails\u001b[0m\u001b[0;34m)\u001b[0m\u001b[0;34m\u001b[0m\u001b[0m\n\u001b[1;32m      4\u001b[0m \u001b[0mmerge\u001b[0m \u001b[0;34m=\u001b[0m \u001b[0mmerge1\u001b[0m\u001b[0;34m.\u001b[0m\u001b[0mdrop\u001b[0m\u001b[0;34m(\u001b[0m\u001b[0mcolumns\u001b[0m \u001b[0;34m=\u001b[0m \u001b[0;34m[\u001b[0m\u001b[0;34m\"genres\"\u001b[0m\u001b[0;34m]\u001b[0m\u001b[0;34m)\u001b[0m\u001b[0;34m\u001b[0m\u001b[0m\n\u001b[1;32m      5\u001b[0m \u001b[0mrecommended_genres\u001b[0m \u001b[0;34m=\u001b[0m \u001b[0mpd\u001b[0m\u001b[0;34m.\u001b[0m\u001b[0mDataFrame\u001b[0m\u001b[0;34m(\u001b[0m\u001b[0mmerge1\u001b[0m\u001b[0;34m[\u001b[0m\u001b[0;34m\"genres\"\u001b[0m\u001b[0;34m]\u001b[0m\u001b[0;34m)\u001b[0m\u001b[0;34m\u001b[0m\u001b[0m\n",
      "\u001b[0;31mNameError\u001b[0m: name 'pd' is not defined"
     ]
    }
   ],
   "source": [
    "#get recommand movies list of a target user\n",
    "prediction = pd.DataFrame(rank, columns=['movieId', \"pred\"])\n",
    "merge1 = pd.merge(prediction,details)\n",
    "merge = merge1.drop(columns = [\"genres\"])\n",
    "recommended_genres = pd.DataFrame(merge1[\"genres\"])\n",
    "recommended_genres[[\"genres\",\"type\"]] = recommended_genres[\"genres\"].str.split(\"|\",1, expand = True)\n",
    "columns = [\"movieId\",\"title\",\"pred\"]\n",
    "recommend = merge.reindex(columns=columns).sort_values(\"pred\",ascending=False).reset_index(drop=True)\n",
    "print(\"The top 10 recommended movies for user 1:\")\n",
    "recommend.head(10)\n",
    "print(\"----------------------------------------------\")"
   ]
  },
  {
   "cell_type": "code",
   "execution_count": 485,
   "metadata": {},
   "outputs": [
    {
     "name": "stdout",
     "output_type": "stream",
     "text": [
      "The genres of movies recommended to this user\n"
     ]
    },
    {
     "data": {
      "text/html": [
       "<div>\n",
       "<style scoped>\n",
       "    .dataframe tbody tr th:only-of-type {\n",
       "        vertical-align: middle;\n",
       "    }\n",
       "\n",
       "    .dataframe tbody tr th {\n",
       "        vertical-align: top;\n",
       "    }\n",
       "\n",
       "    .dataframe thead th {\n",
       "        text-align: right;\n",
       "    }\n",
       "</style>\n",
       "<table border=\"1\" class=\"dataframe\">\n",
       "  <thead>\n",
       "    <tr style=\"text-align: right;\">\n",
       "      <th></th>\n",
       "      <th>genres</th>\n",
       "      <th>counts</th>\n",
       "    </tr>\n",
       "  </thead>\n",
       "  <tbody>\n",
       "    <tr>\n",
       "      <th>0</th>\n",
       "      <td>Comedy</td>\n",
       "      <td>2433</td>\n",
       "    </tr>\n",
       "    <tr>\n",
       "      <th>1</th>\n",
       "      <td>Drama</td>\n",
       "      <td>1918</td>\n",
       "    </tr>\n",
       "    <tr>\n",
       "      <th>2</th>\n",
       "      <td>Action</td>\n",
       "      <td>1602</td>\n",
       "    </tr>\n",
       "    <tr>\n",
       "      <th>3</th>\n",
       "      <td>Adventure</td>\n",
       "      <td>575</td>\n",
       "    </tr>\n",
       "    <tr>\n",
       "      <th>4</th>\n",
       "      <td>Crime</td>\n",
       "      <td>471</td>\n",
       "    </tr>\n",
       "    <tr>\n",
       "      <th>5</th>\n",
       "      <td>Horror</td>\n",
       "      <td>396</td>\n",
       "    </tr>\n",
       "    <tr>\n",
       "      <th>6</th>\n",
       "      <td>Documentary</td>\n",
       "      <td>307</td>\n",
       "    </tr>\n",
       "    <tr>\n",
       "      <th>7</th>\n",
       "      <td>Animation</td>\n",
       "      <td>239</td>\n",
       "    </tr>\n",
       "    <tr>\n",
       "      <th>8</th>\n",
       "      <td>Children</td>\n",
       "      <td>181</td>\n",
       "    </tr>\n",
       "    <tr>\n",
       "      <th>9</th>\n",
       "      <td>Thriller</td>\n",
       "      <td>67</td>\n",
       "    </tr>\n",
       "  </tbody>\n",
       "</table>\n",
       "</div>"
      ],
      "text/plain": [
       "        genres  counts\n",
       "0       Comedy    2433\n",
       "1        Drama    1918\n",
       "2       Action    1602\n",
       "3    Adventure     575\n",
       "4        Crime     471\n",
       "5       Horror     396\n",
       "6  Documentary     307\n",
       "7    Animation     239\n",
       "8     Children     181\n",
       "9     Thriller      67"
      ]
     },
     "execution_count": 485,
     "metadata": {},
     "output_type": "execute_result"
    }
   ],
   "source": [
    "#get the genres of movies recommended to this user\n",
    "recommended_genres = recommended_genres.drop(columns = \"type\")\n",
    "recommended_genres = recommended_genres.groupby([\"genres\"]).size().reset_index(name='counts')\n",
    "recommended_genres = recommended_genres.sort_values(\"counts\",ascending=False).reset_index(drop=True)\n",
    "print(\"The genres of movies recommended to this user\")\n",
    "recommended_genres.head(10)"
   ]
  },
  {
   "cell_type": "code",
   "execution_count": 489,
   "metadata": {},
   "outputs": [
    {
     "name": "stdout",
     "output_type": "stream",
     "text": [
      "The genres of movies this user has rated\n"
     ]
    },
    {
     "data": {
      "text/html": [
       "<div>\n",
       "<style scoped>\n",
       "    .dataframe tbody tr th:only-of-type {\n",
       "        vertical-align: middle;\n",
       "    }\n",
       "\n",
       "    .dataframe tbody tr th {\n",
       "        vertical-align: top;\n",
       "    }\n",
       "\n",
       "    .dataframe thead th {\n",
       "        text-align: right;\n",
       "    }\n",
       "</style>\n",
       "<table border=\"1\" class=\"dataframe\">\n",
       "  <thead>\n",
       "    <tr style=\"text-align: right;\">\n",
       "      <th></th>\n",
       "      <th>genres</th>\n",
       "      <th>counts</th>\n",
       "    </tr>\n",
       "  </thead>\n",
       "  <tbody>\n",
       "    <tr>\n",
       "      <th>0</th>\n",
       "      <td>Action</td>\n",
       "      <td>90</td>\n",
       "    </tr>\n",
       "    <tr>\n",
       "      <th>1</th>\n",
       "      <td>Comedy</td>\n",
       "      <td>48</td>\n",
       "    </tr>\n",
       "    <tr>\n",
       "      <th>2</th>\n",
       "      <td>Adventure</td>\n",
       "      <td>39</td>\n",
       "    </tr>\n",
       "    <tr>\n",
       "      <th>3</th>\n",
       "      <td>Drama</td>\n",
       "      <td>17</td>\n",
       "    </tr>\n",
       "    <tr>\n",
       "      <th>4</th>\n",
       "      <td>Crime</td>\n",
       "      <td>15</td>\n",
       "    </tr>\n",
       "    <tr>\n",
       "      <th>5</th>\n",
       "      <td>Animation</td>\n",
       "      <td>12</td>\n",
       "    </tr>\n",
       "    <tr>\n",
       "      <th>6</th>\n",
       "      <td>Horror</td>\n",
       "      <td>7</td>\n",
       "    </tr>\n",
       "    <tr>\n",
       "      <th>7</th>\n",
       "      <td>Children</td>\n",
       "      <td>2</td>\n",
       "    </tr>\n",
       "    <tr>\n",
       "      <th>8</th>\n",
       "      <td>Mystery</td>\n",
       "      <td>1</td>\n",
       "    </tr>\n",
       "    <tr>\n",
       "      <th>9</th>\n",
       "      <td>Thriller</td>\n",
       "      <td>1</td>\n",
       "    </tr>\n",
       "  </tbody>\n",
       "</table>\n",
       "</div>"
      ],
      "text/plain": [
       "      genres  counts\n",
       "0     Action      90\n",
       "1     Comedy      48\n",
       "2  Adventure      39\n",
       "3      Drama      17\n",
       "4      Crime      15\n",
       "5  Animation      12\n",
       "6     Horror       7\n",
       "7   Children       2\n",
       "8    Mystery       1\n",
       "9   Thriller       1"
      ]
     },
     "execution_count": 489,
     "metadata": {},
     "output_type": "execute_result"
    }
   ],
   "source": [
    "#get the genres of movies this user has rated\n",
    "rated_movieid = movie[movie[\"userId\"] == 1].drop(columns = [\"userId\",\"rating\"])\n",
    "merge_movieid = pd.merge(rated_movieid,details)\n",
    "rated_movie_genres = pd.DataFrame(merge_movieid[\"genres\"])\n",
    "rated_movie_genres[[\"genres\",\"type\"]] = rated_movie_genres[\"genres\"].str.split(\"|\",1, expand = True)\n",
    "rated_movie_genres = rated_movie_genres.drop(columns = \"type\")\n",
    "rated_movie_genres = rated_movie_genres.groupby([\"genres\"]).size().reset_index(name='counts')\n",
    "rated_movie_genres = rated_movie_genres.sort_values(\"counts\",ascending=False).reset_index(drop=True)\n",
    "print(\"The genres of movies this user has rated\")\n",
    "rated_movie_genres.head(10)"
   ]
  },
  {
   "cell_type": "markdown",
   "metadata": {},
   "source": [
    "# Experiment on all users to calculate the average rmse"
   ]
  },
  {
   "cell_type": "code",
   "execution_count": 490,
   "metadata": {},
   "outputs": [],
   "source": [
    "#predict for all users\n",
    "def averageScore(train,Recommendation,*args,**kwargs):\n",
    "    rmselist = []\n",
    "    for user in train:\n",
    "        rank = sorted(Recommendation(train,user,*args,**kwargs).items())\n",
    "        prediction = pd.DataFrame(rank, columns=['movieId', \"pred\"])\n",
    "        y = pd.DataFrame(sorted(test[user].items()), columns=['movieId', \"rating\"])\n",
    "        merge = pd.merge(prediction,y)\n",
    "        rmselist.append(rmse(merge[\"pred\"],merge[\"rating\"]))\n",
    "    return np.mean(rmselist)"
   ]
  },
  {
   "cell_type": "code",
   "execution_count": 494,
   "metadata": {},
   "outputs": [
    {
     "data": {
      "text/plain": [
       "0.890520381305443"
      ]
     },
     "execution_count": 494,
     "metadata": {},
     "output_type": "execute_result"
    }
   ],
   "source": [
    "averageScore(train,Recommendation,Weight,10)"
   ]
  },
  {
   "cell_type": "code",
   "execution_count": 497,
   "metadata": {},
   "outputs": [],
   "source": [
    "def cross_validation(feed_data, fold = 5, K = 20,m = 10):\n",
    "    score_list = []\n",
    "    for seed in range(fold):\n",
    "        train_cv, test_cv = datasplit(feed_data,seed,m,random.uniform(1,3))\n",
    "        train_sim = get_sim_feed_data(train_cv)\n",
    "        C,N = CompMatrix(train_sim)\n",
    "        Weight = CalItemSimilarity(C,N)\n",
    "        teste_score = averageScore(train_cv,Recommendation,Weight,K)\n",
    "        print(f\"test:{seed}, rmse is {test_score}.\")\n",
    "        score_list.append(test_score)\n",
    "    return np.mean(score_list), np.var(score_list,ddof=1)"
   ]
  },
  {
   "cell_type": "code",
   "execution_count": null,
   "metadata": {},
   "outputs": [
    {
     "name": "stdout",
     "output_type": "stream",
     "text": [
      "test:0, rmse is 0.8107666047645468.\n"
     ]
    }
   ],
   "source": [
    "cross_validation(feed_data, fold = 5, K = 20)"
   ]
  },
  {
   "cell_type": "code",
   "execution_count": 416,
   "metadata": {},
   "outputs": [
    {
     "name": "stdout",
     "output_type": "stream",
     "text": [
      "K:1, rmse is 0.9723596518098973.\n",
      "K:3, rmse is 0.8233916412588773.\n",
      "K:5, rmse is 0.8039015827612798.\n",
      "K:7, rmse is 0.8011497948966919.\n",
      "K:9, rmse is 0.8013754841148135.\n",
      "K:11, rmse is 0.8043506183158499.\n",
      "K:13, rmse is 0.8073534939819121.\n",
      "K:15, rmse is 0.8107666047645468.\n"
     ]
    },
    {
     "data": {
      "image/png": "[encoded data removed]",
      "text/plain": [
       "<Figure size 432x288 with 1 Axes>"
      ]
     },
     "metadata": {},
     "output_type": "display_data"
    }
   ],
   "source": [
    "import matplotlib.pyplot as plt\n",
    "%matplotlib inline\n",
    "\n",
    "error = []\n",
    "x = []\n",
    "for K in range(1, 16, 2):\n",
    "    test_score = averageScore(train,Recommendation,Weight,K)\n",
    "    print(f\"K:{K}, rmse is {test_score}.\")\n",
    "    error.append(test_score)\n",
    "    x.append(K)\n",
    "plt.plot(x, error)\n",
    "plt.xlabel('K')\n",
    "plt.ylabel('rmse error')\n",
    "plt.show()"
   ]
  },
  {
   "cell_type": "code",
   "execution_count": null,
   "metadata": {},
   "outputs": [],
   "source": []
  }
 ],
 "metadata": {
  "kernelspec": {
   "display_name": "Python 3",
   "language": "python",
   "name": "python3"
  },
  "language_info": {
   "codemirror_mode": {
    "name": "ipython",
    "version": 3
   },
   "file_extension": ".py",
   "mimetype": "text/x-python",
   "name": "python",
   "nbconvert_exporter": "python",
   "pygments_lexer": "ipython3",
   "version": "3.6.5"
  },
  "toc": {
   "base_numbering": 1,
   "nav_menu": {},
   "number_sections": true,
   "sideBar": true,
   "skip_h1_title": false,
   "title_cell": "Table of Contents",
   "title_sidebar": "Contents",
   "toc_cell": false,
   "toc_position": {},
   "toc_section_display": true,
   "toc_window_display": false
  }
 },
 "nbformat": 4,
 "nbformat_minor": 2
}
